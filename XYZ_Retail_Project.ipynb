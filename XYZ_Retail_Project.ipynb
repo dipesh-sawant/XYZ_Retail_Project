{
 "cells": [
  {
   "cell_type": "code",
   "execution_count": 103,
   "id": "c6b4b572-bf98-4c4d-a7c2-30d55b4e4a30",
   "metadata": {},
   "outputs": [
    {
     "name": "stdout",
     "output_type": "stream",
     "text": [
      "Total Units Sold: 350\n",
      "Difference Between Categories: 50\n",
      "Ratio of Category A to Category B Units Sold: 0.75\n"
     ]
    }
   ],
   "source": [
    "#Task 1: Sales Data Summary\n",
    "#Objective: Automate the calculation of basic sales metrics.\n",
    "# Assign units sold in two categories\n",
    "category_a_units = 150\n",
    "category_b_units = 200\n",
    "# Calculate total units sold\n",
    "total_units_sold = category_a_units + category_b_units\n",
    "# Calculate the difference between the categories\n",
    "difference = abs(category_a_units - category_b_units)\n",
    "# Calculate the ratio of units sold\n",
    "ratio = category_a_units / category_b_units\n",
    "# Print the results\n",
    "print(\"Total Units Sold:\", total_units_sold)\n",
    "print(\"Difference Between Categories:\", difference)\n",
    "print(\"Ratio of Category A to Category B Units Sold:\", ratio)"
   ]
  },
  {
   "cell_type": "code",
   "execution_count": 105,
   "id": "c0dda8ea-2710-4c3e-a489-0e18956103b8",
   "metadata": {},
   "outputs": [
    {
     "name": "stdout",
     "output_type": "stream",
     "text": [
      "Dear Keshav Sukumar, at 30, you're eligible for our premium loyalty program.\n"
     ]
    }
   ],
   "source": [
    "#Task 2: Customer Age Data\n",
    "#Objective: Create a personalized marketing message.\n",
    "# Store customer's name and age\n",
    "customer_name = \"Keshav Sukumar\"\n",
    "age = 30\n",
    "# Convert age to string and create the message\n",
    "message = f\"Dear {customer_name}, at {str(age)}, you're eligible for our premium loyalty program.\"\n",
    "# Print the message\n",
    "print(message)"
   ]
  },
  {
   "cell_type": "code",
   "execution_count": 107,
   "id": "c6d40d9c-098d-4822-ab9a-82f84e50cd99",
   "metadata": {},
   "outputs": [
    {
     "name": "stdout",
     "output_type": "stream",
     "text": [
      "Updated Product Prices: [49.99, 19.99, 99.99, 15.99, 499.99]\n"
     ]
    }
   ],
   "source": [
    "#Task 3: Product List Management\n",
    "#Objective: Manage the product list for inventory control.\n",
    "# Given list of product prices\n",
    "product_prices = [49.99, 19.99, 5.99, 299.99, 99.99, 15.99]\n",
    "# Extract highest and lowest prices\n",
    "highest_price = max(product_prices)\n",
    "lowest_price = min(product_prices)\n",
    "# Create a new list with mid-range products\n",
    "mid_range_products = [price for price in product_prices if price != highest_price and price != lowest_price]\n",
    "# Add a new premium product price\n",
    "mid_range_products.append(499.99)\n",
    "# Print the updated list\n",
    "print(\"Updated Product Prices:\", mid_range_products)"
   ]
  },
  {
   "cell_type": "code",
   "execution_count": 109,
   "id": "fe40f643-1fd2-43b3-aab4-41ac5539dfb6",
   "metadata": {},
   "outputs": [
    {
     "name": "stdout",
     "output_type": "stream",
     "text": [
      "Product Name: Wireless Mouse\n",
      "SKU: WM12345\n"
     ]
    }
   ],
   "source": [
    "#Task 4: Inventory Lookup\n",
    "#Objective: Access product details quickly.\n",
    "# Create a product dictionary\n",
    "product_info = {\n",
    "    'product_name': 'Wireless Mouse',\n",
    "    'SKU': 'WM12345',\n",
    "    'price': 29.99,\n",
    "    'category': 'Electronics'\n",
    "}\n",
    "# Print product name and SKU\n",
    "print(\"Product Name:\", product_info['product_name'])\n",
    "print(\"SKU:\", product_info['SKU'])"
   ]
  },
  {
   "cell_type": "code",
   "execution_count": 113,
   "id": "3f0c03ed-2853-4e9e-a5a2-664452045504",
   "metadata": {},
   "outputs": [
    {
     "name": "stdin",
     "output_type": "stream",
     "text": [
      "Current stock level:  80\n"
     ]
    },
    {
     "name": "stdout",
     "output_type": "stream",
     "text": [
      "Stock is sufficient\n"
     ]
    }
   ],
   "source": [
    "#Task 5: Stock Level Alert System\n",
    "#Objective: Alert for stock replenishment.\n",
    "# Function to check stock level\n",
    "def check_stock(stock_level, threshold=50):\n",
    "    if stock_level < threshold:\n",
    "        print(\"Reorder Now\")\n",
    "    else:\n",
    "        print(\"Stock is sufficient\")\n",
    "# To take stock level as input\n",
    "current_stock = int(input(\"Current stock level: \"))\n",
    "# Stock level threshold alert\n",
    "check_stock(current_stock)"
   ]
  },
  {
   "cell_type": "code",
   "execution_count": 115,
   "id": "1838bcfe-c50b-4813-9fd2-bd852f28b501",
   "metadata": {},
   "outputs": [
    {
     "name": "stdout",
     "output_type": "stream",
     "text": [
      "Using for loop:\n",
      "LAPTOP\n",
      "SMARTPHONE\n",
      "HEADPHONES\n",
      "MONITOR\n",
      "KEYBOARD\n",
      "\n",
      "Using while loop:\n",
      "LAPTOP\n",
      "SMARTPHONE\n",
      "HEADPHONES\n",
      "MONITOR\n",
      "KEYBOARD\n"
     ]
    }
   ],
   "source": [
    "#Task 6: Sales Report Formatting\n",
    "#Objective: Format product names for reports.\n",
    "# List of products sold\n",
    "products_sold = ['laptop', 'smartphone', 'headphones', 'monitor', 'keyboard']\n",
    "# Using a for loop\n",
    "print(\"Using for loop:\")\n",
    "for product in products_sold:\n",
    "    print(product.upper())\n",
    "# Using a while loop\n",
    "print(\"\\nUsing while loop:\")\n",
    "index = 0\n",
    "while index < len(products_sold):\n",
    "    print(products_sold[index].upper())\n",
    "    index += 1"
   ]
  },
  {
   "cell_type": "code",
   "execution_count": 117,
   "id": "740e14c4-ca1b-4271-98f1-efb519d1396e",
   "metadata": {},
   "outputs": [
    {
     "name": "stdout",
     "output_type": "stream",
     "text": [
      "Area of Electronics Section: 600 square meters\n",
      "Area of Clothing Section: 375 square meters\n",
      "Area of Groceries Section: 1400 square meters\n"
     ]
    }
   ],
   "source": [
    "#Task 7: Area Calculation for Store Layout\n",
    "#Objective: Calculate the area of store sections.\n",
    "# Function to calculate area\n",
    "def calculate_area(length, width):\n",
    "    return length * width\n",
    "# Calculate and print areas of several sections\n",
    "sections = [\n",
    "    {'name': 'Electronics', 'length': 30, 'width': 20},\n",
    "    {'name': 'Clothing', 'length': 25, 'width': 15},\n",
    "    {'name': 'Groceries', 'length': 40, 'width': 35}\n",
    "]\n",
    "for section in sections:\n",
    "    area = calculate_area(section['length'], section['width'])\n",
    "    print(f\"Area of {section['name']} Section: {area} square meters\")"
   ]
  },
  {
   "cell_type": "code",
   "execution_count": 119,
   "id": "4568f17c-9127-4a71-b56c-93c3b93b5592",
   "metadata": {},
   "outputs": [
    {
     "name": "stdout",
     "output_type": "stream",
     "text": [
      "Number of vowels: 16\n",
      "Reversed Feedback: yldneirf yrev erew ffats eht dna tnellecxe saw ecivres ehT\n"
     ]
    }
   ],
   "source": [
    "#Task 8: Customer Feedback Analysis\n",
    "#Objective: Count vowels and reverse feedback messages.\n",
    "# Sample customer feedback\n",
    "feedback = \"The service was excellent and the staff were very friendly\"\n",
    "# Count the number of vowels\n",
    "#vowels = 'aeiouAEIOU'\n",
    "vowels = 'aeiou'\n",
    "#vowel_count = sum(1 for char in feedback if char in vowels)\n",
    "vowel_count = sum(1 for char in feedback.lower() if char in vowels)\n",
    "# Reverse the feedback message\n",
    "reversed_feedback = feedback[::-1]\n",
    "# Print the results\n",
    "print(\"Number of vowels:\", vowel_count)\n",
    "print(\"Reversed Feedback:\", reversed_feedback)"
   ]
  },
  {
   "cell_type": "code",
   "execution_count": 121,
   "id": "aaeb6333-2cdd-4af7-9742-d61b67f28cad",
   "metadata": {},
   "outputs": [
    {
     "name": "stdout",
     "output_type": "stream",
     "text": [
      "Products eligible for discount: [49.99, 19.99, 5.99, 15.99]\n"
     ]
    }
   ],
   "source": [
    "#Task 9: Price Filtering Tool\n",
    "#Objective: Filter products for discount campaigns.\n",
    "# List of product prices\n",
    "product_prices = [49.99, 19.99, 5.99, 299.99, 99.99, 15.99]\n",
    "# Threshold price\n",
    "threshold = 50\n",
    "# Filter products priced below the threshold\n",
    "eligible_products = [price for price in product_prices if price < threshold]\n",
    "# Print the eligible products\n",
    "print(\"Products eligible for discount:\", eligible_products)"
   ]
  },
  {
   "cell_type": "code",
   "execution_count": 123,
   "id": "596a6122-85f9-4d8c-8a46-d7bc19a3cc71",
   "metadata": {},
   "outputs": [
    {
     "name": "stdout",
     "output_type": "stream",
     "text": [
      "Daily Sales Summary:\n",
      "Total Sales: ₹10,000\n",
      "\n"
     ]
    }
   ],
   "source": [
    "# Task 10: Sales Log File Management\n",
    "# Objective: Manage sales log files.\n",
    "\n",
    "# Create and write to 'sales_log.txt' (using UTF-8 encoding to get wide range of charectors like Rupee symbol)\n",
    "with open('sales_log.txt', 'w', encoding='utf-8') as file:\n",
    "    file.write(\"Daily Sales Summary:\\n\")\n",
    "    file.write(\"Total Sales: ₹10,000\\n\")\n",
    "\n",
    "# Read and print the content of the file\n",
    "with open('sales_log.txt', 'r', encoding='utf-8') as file:\n",
    "    content = file.read()\n",
    "    print(content)"
   ]
  },
  {
   "cell_type": "code",
   "execution_count": 125,
   "id": "de36f1e8-4b3f-4191-959e-aa22b8c7dc5b",
   "metadata": {},
   "outputs": [
    {
     "name": "stdout",
     "output_type": "stream",
     "text": [
      "Average Daily Sales for the Past Week: ₹ 14571.43\n"
     ]
    }
   ],
   "source": [
    "#Task 11: Daily Sales Average\n",
    "#Objective: Calculate average daily sales for the past week.\n",
    "# Sales figures for the last 7 days\n",
    "weekly_sales = [12000, 15000, 11000, 17000, 16000, 13000, 18000]\n",
    "# Calculate the average sales\n",
    "average_sales = sum(weekly_sales) / len(weekly_sales)\n",
    "# Print the average sales\n",
    "print(\"Average Daily Sales for the Past Week: ₹\", round(average_sales, 2))"
   ]
  },
  {
   "cell_type": "code",
   "execution_count": 171,
   "id": "71ea9056-7e8c-42f6-84f5-560b29945557",
   "metadata": {},
   "outputs": [
    {
     "name": "stdout",
     "output_type": "stream",
     "text": [
      "Customer: Jethalal Gada, Spending: ₹15000 - Category: High\n",
      "Customer: Tarak Mehta, Spending: ₹7500 - Category: High\n",
      "Customer: Aatmaram Bhide, Spending: ₹500 - Category: Low\n",
      "Customer: Krishnan Iyer, Spending: ₹3000 - Category: Medium\n",
      "Customer: Roshan Sodhi, Spending: ₹12000 - Category: High\n",
      "Customer: Dr. Hansraj Hathi, Spending: ₹900 - Category: Low\n"
     ]
    }
   ],
   "source": [
    "#Task 12: Customer Segmentation\n",
    "#Objective: Categorize customers based on total spending.\n",
    "# List of customer spending amounts\n",
    "customers = [\n",
    "    {'name': 'Jethalal Gada', 'spending': 15000},\n",
    "    {'name': 'Tarak Mehta', 'spending': 7500},\n",
    "    {'name': 'Aatmaram Bhide', 'spending': 500},\n",
    "    {'name': 'Krishnan Iyer', 'spending': 3000},\n",
    "    {'name': 'Roshan Sodhi', 'spending': 12000},\n",
    "    {'name': 'Dr. Hansraj Hathi', 'spending': 900}\n",
    "]\n",
    "\n",
    "# Categorize customers based on spending\n",
    "for customer in customers:\n",
    "    spending = customer['spending']\n",
    "    \n",
    "    if spending < 1000:\n",
    "        category = \"Low\"\n",
    "    elif 1000 <= spending < 5000:\n",
    "        category = \"Medium\"\n",
    "    else:\n",
    "        category = \"High\"\n",
    "    \n",
    "    print(f\"Customer: {customer['name']}, Spending: ₹{spending} - Category: {category}\")"
   ]
  },
  {
   "cell_type": "code",
   "execution_count": 129,
   "id": "723c7ceb-9073-45cf-803d-a1ac544685ac",
   "metadata": {},
   "outputs": [
    {
     "name": "stdout",
     "output_type": "stream",
     "text": [
      "Laptop - Final Price: ₹9000.0\n",
      "Headphones - Final Price: ₹1900.0\n",
      "Keyboard - Final Price: ₹400.0\n"
     ]
    }
   ],
   "source": [
    "#Task 13: Discount Calculation\n",
    "#Objective: Calculate final prices after discounts.\n",
    "# Function to calculate final price\n",
    "def calculate_discounted_price(original_price, discount_percent):\n",
    "    discount_amount = original_price * (discount_percent / 100)\n",
    "    return original_price - discount_amount\n",
    "# List of products with discounts\n",
    "products = [\n",
    "    {'name': 'Laptop', 'price': 10000, 'discount': 10},\n",
    "    {'name': 'Headphones', 'price': 2000, 'discount': 5},\n",
    "    {'name': 'Keyboard', 'price': 500, 'discount': 20}\n",
    "]\n",
    "# Calculate and print final prices\n",
    "for product in products:\n",
    "    final_price = calculate_discounted_price(product['price'], product['discount'])\n",
    "    print(f\"{product['name']} - Final Price: ₹{final_price}\")"
   ]
  },
  {
   "cell_type": "code",
   "execution_count": 131,
   "id": "ebb0dd4a-2060-42c4-ab3d-e1c808857ea1",
   "metadata": {},
   "outputs": [
    {
     "name": "stdout",
     "output_type": "stream",
     "text": [
      "Feedback Sentiment: Positive\n"
     ]
    }
   ],
   "source": [
    "#Task 14: Customer Feedback Sentiment Analysis\n",
    "#Objective: Basic sentiment analysis of feedback.\n",
    "# Sample customer feedback\n",
    "feedback = \"I am very happy with the good service\"\n",
    "# Lists of positive and negative words\n",
    "positive_words = ['good', 'happy', 'excellent', 'satisfied']\n",
    "negative_words = ['bad', 'disappointed', 'poor', 'unhappy']\n",
    "# Check for positive or negative words\n",
    "if any(word in feedback.lower() for word in positive_words):\n",
    "    sentiment = \"Positive\"\n",
    "elif any(word in feedback.lower() for word in negative_words):\n",
    "    sentiment = \"Negative\"\n",
    "else:\n",
    "    sentiment = \"Neutral\"\n",
    "# Print the sentiment\n",
    "print(\"Feedback Sentiment:\", sentiment)"
   ]
  },
  {
   "cell_type": "code",
   "execution_count": 133,
   "id": "bf1661a4-7e55-40d8-a9ac-c2bf7a5b11e2",
   "metadata": {},
   "outputs": [
    {
     "name": "stdout",
     "output_type": "stream",
     "text": [
      "John Doe - New Salary: ₹55000.0\n",
      "Jane Smith - New Salary: ₹52500.0\n",
      "Emily Davis - New Salary: ₹53500.0\n",
      "Michael Brown - New Salary: ₹51000.0\n"
     ]
    }
   ],
   "source": [
    "#Task 15: Employee Salary Increment Calculator\n",
    "#Objective: Calculate salary increments based on performance.\n",
    "# Employee ratings (5-Excellent & 1-Not Meet)\n",
    "employee_ratings = {\n",
    "    'John Doe': 5,\n",
    "    'Jane Smith': 3,\n",
    "    'Emily Davis': 4,\n",
    "    'Michael Brown': 2\n",
    "}\n",
    "# Base salaries\n",
    "base_salary = 50000\n",
    "# Apply increments\n",
    "for employee, rating in employee_ratings.items():\n",
    "    if rating == 5:\n",
    "        increment = 0.10  # 10%\n",
    "    elif rating == 4:\n",
    "        increment = 0.07  # 7%\n",
    "    elif rating == 3:\n",
    "        increment = 0.05  # 5%\n",
    "    else:\n",
    "        increment = 0.02  # 2%\n",
    "    new_salary = base_salary + (base_salary * increment)\n",
    "    print(f\"{employee} - New Salary: ₹{new_salary}\")"
   ]
  },
  {
   "cell_type": "code",
   "execution_count": 135,
   "id": "eb4f88f0-c4de-4384-8360-2b4590cee98f",
   "metadata": {},
   "outputs": [],
   "source": [
    "# Task 16: Monthly Sales Report Generator\n",
    "# Objective: Generate a monthly sales report.\n",
    "\n",
    "# Daily sales figures for a month (30 days)\n",
    "daily_sales = [\n",
    "    12000, 15000, 11000, 17000, 16000, 13000, 18000,\n",
    "    14000, 15500, 16500, 17500, 18500, 19500, 20500,\n",
    "    21500, 22500, 23500, 24500, 25500, 26500, 27500,\n",
    "    28500, 29500, 30500, 31500, 32500, 33500, 34500,\n",
    "    35500, 36500\n",
    "]\n",
    "\n",
    "# Calculate total and average sales\n",
    "total_sales = sum(daily_sales)\n",
    "average_sales = total_sales / len(daily_sales)\n",
    "\n",
    "# Write statistics to 'monthly_report.txt' (using UTF-8 encoding to get wide range of charectors like Rupee symbol)\n",
    "with open('monthly_report.txt', 'w', encoding='utf-8') as file:\n",
    "    file.write(\"Monthly Sales Report\\n\")\n",
    "    file.write(f\"Total Sales: ₹{total_sales}\\n\")\n",
    "    file.write(f\"Average Daily Sales: ₹{round(average_sales, 2)}\\n\")"
   ]
  },
  {
   "cell_type": "code",
   "execution_count": 137,
   "id": "e64b6a70-ba7c-4018-8709-1867d1331f18",
   "metadata": {},
   "outputs": [
    {
     "name": "stdout",
     "output_type": "stream",
     "text": [
      "Products to Reorder: ['Wireless Mouse', 'Monitor']\n"
     ]
    }
   ],
   "source": [
    "#Task 17: Stock Replenishment Planning\n",
    "#Objective: Determine products needing replenishment.\n",
    "# Products and their current stock levels\n",
    "inventory = {\n",
    "    'Wireless Mouse': 45,\n",
    "    'Keyboard': 75,\n",
    "    'Monitor': 20,\n",
    "    'USB Cable': 150\n",
    "}\n",
    "# Predefined threshold\n",
    "threshold = 50\n",
    "# Products that need to be reordered\n",
    "reorder_list = [product for product, stock in inventory.items() if stock < threshold]\n",
    "# Print the list of products to reorder\n",
    "print(\"Products to Reorder:\", reorder_list)"
   ]
  },
  {
   "cell_type": "code",
   "execution_count": 139,
   "id": "eee7d596-069c-4ba5-bf17-3d8502718963",
   "metadata": {},
   "outputs": [
    {
     "name": "stdout",
     "output_type": "stream",
     "text": [
      "Cleaned Customer Names:\n",
      "Jethalal Gada\n",
      "Tarak Mehta\n",
      "Aatmaram Bhide\n",
      "Krishnan Iyer\n"
     ]
    }
   ],
   "source": [
    "#Task 18: Data Cleaning Utility\n",
    "#Objective: Clean customer names.\n",
    "# List of customer names with inconsistencies\n",
    "customer_names = ['  JETHALAL GADA', 'tarak mehta  ', '  Aatmaram Bhide ', 'KRISHNAN IYER']\n",
    "# Cleaned names list\n",
    "cleaned_names = []\n",
    "for name in customer_names:\n",
    "    # Trim spaces and standardize capitalization\n",
    "    name = name.strip().title()\n",
    "    cleaned_names.append(name)\n",
    "# Print cleaned names\n",
    "print(\"Cleaned Customer Names:\")\n",
    "for name in cleaned_names:\n",
    "    print(name)"
   ]
  },
  {
   "cell_type": "code",
   "execution_count": 141,
   "id": "d0ce0bdb-df74-47ee-91fb-c39d340e5f6e",
   "metadata": {},
   "outputs": [
    {
     "name": "stdout",
     "output_type": "stream",
     "text": [
      "Forecasted Sales for Next Month: ₹ 550000.0\n"
     ]
    }
   ],
   "source": [
    "#Task 19: Simple Sales Forecasting\n",
    "#Objective: Predict next month's sales.\n",
    "# Average sales of the last 3 months\n",
    "sales_last_three_months = [500000, 550000, 600000]\n",
    "# Predict next month's sales\n",
    "forecasted_sales = sum(sales_last_three_months) / len(sales_last_three_months)\n",
    "# Print the forecasted sales\n",
    "print(\"Forecasted Sales for Next Month: ₹\", round(forecasted_sales, 2))"
   ]
  },
  {
   "cell_type": "code",
   "execution_count": 143,
   "id": "5ad970a4-ed1b-4293-ae48-63933c6297de",
   "metadata": {},
   "outputs": [
    {
     "name": "stdout",
     "output_type": "stream",
     "text": [
      "Jethalal Gada - Loyalty Points: 60000\n",
      "Tarak Mehta - Loyalty Points: 22500\n",
      "Aatmaram Bhide - Loyalty Points: 3000\n",
      "Krishnan Iyer - Loyalty Points: 500\n"
     ]
    }
   ],
   "source": [
    "#Task 20: Customer Loyalty Points Calculator\n",
    "#Objective: Calculate loyalty points based on purchases.\n",
    "# Function to calculate loyalty points\n",
    "def calculate_loyalty_points(purchase_amount):\n",
    "    if purchase_amount >= 10000:\n",
    "        multiplier = 5\n",
    "    elif purchase_amount >= 5000:\n",
    "        multiplier = 3\n",
    "    else:\n",
    "        multiplier = 1\n",
    "    return purchase_amount * multiplier\n",
    "# List of customers with their purchase amounts\n",
    "customers = [\n",
    "    {'name': 'Jethalal Gada', 'purchase_amount': 12000},\n",
    "    {'name': 'Tarak Mehta', 'purchase_amount': 7500},\n",
    "    {'name': 'Aatmaram Bhide', 'purchase_amount': 3000},\n",
    "    {'name': 'Krishnan Iyer', 'purchase_amount': 500}\n",
    "]\n",
    "# Calculate and print loyalty points\n",
    "for customer in customers:\n",
    "    points = calculate_loyalty_points(customer['purchase_amount'])\n",
    "    print(f\"{customer['name']} - Loyalty Points: {points}\")"
   ]
  },
  {
   "cell_type": "code",
   "execution_count": null,
   "id": "3a5b864c-5523-4699-b45d-7b8aec9dc3c1",
   "metadata": {},
   "outputs": [],
   "source": []
  }
 ],
 "metadata": {
  "kernelspec": {
   "display_name": "Python 3 (ipykernel)",
   "language": "python",
   "name": "python3"
  },
  "language_info": {
   "codemirror_mode": {
    "name": "ipython",
    "version": 3
   },
   "file_extension": ".py",
   "mimetype": "text/x-python",
   "name": "python",
   "nbconvert_exporter": "python",
   "pygments_lexer": "ipython3",
   "version": "3.12.4"
  }
 },
 "nbformat": 4,
 "nbformat_minor": 5
}
